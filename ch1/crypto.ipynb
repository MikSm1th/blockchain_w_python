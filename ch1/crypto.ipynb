{
 "metadata": {
  "language_info": {
   "codemirror_mode": {
    "name": "ipython",
    "version": 3
   },
   "file_extension": ".py",
   "mimetype": "text/x-python",
   "name": "python",
   "nbconvert_exporter": "python",
   "pygments_lexer": "ipython3",
   "version": "3.8.7-final"
  },
  "orig_nbformat": 2,
  "kernelspec": {
   "name": "python38764bitvenv64558f7d786544bd9f2865c68fe88d05",
   "display_name": "Python 3.8.7 64-bit ('venv')",
   "language": "python"
  }
 },
 "nbformat": 4,
 "nbformat_minor": 2,
 "cells": [
  {
   "source": [
    "### Hashing \n",
    "\n",
    "Hashing is a one way function, meaning that given an input, you can get the output easily.\n",
    "\n",
    "But given an output, you couldn't get the input.\n",
    "\n",
    "$$f(x,y) \\geq x + y$$"
   ],
   "cell_type": "markdown",
   "metadata": {}
  },
  {
   "source": [
    "This is an addition process.\n",
    "\n",
    "If I tell you one of the outputs of this function is 999, and I ask you what the inputs are, it could be anything. \n",
    "\n",
    "The algorithm is clear, but it is hard to reverse. "
   ],
   "cell_type": "markdown",
   "metadata": {}
  },
  {
   "source": [
    "### Asymmetric cryptography \n",
    "\n",
    "In Asymmetric cryptography there are two keys: a public key and a private key.\n",
    "\n",
    "They are linked with a special mathematical relationship. \n",
    "\n",
    "If you encrypt a message with a public key, you can only decrypt it with a private key.\n",
    "\n",
    "If you encrypt a message with a private key, you can only decrypt it with a public key."
   ],
   "cell_type": "markdown",
   "metadata": {}
  },
  {
   "source": [
    "### Explaining the RSA algorithm"
   ],
   "cell_type": "markdown",
   "metadata": {}
  },
  {
   "cell_type": "code",
   "execution_count": 1,
   "metadata": {},
   "outputs": [
    {
     "output_type": "execute_result",
     "data": {
      "text/plain": [
       "187"
      ]
     },
     "metadata": {},
     "execution_count": 1
    }
   ],
   "source": [
    "p = 11\n",
    "q = 17\n",
    "n = p*q\n",
    "n"
   ]
  },
  {
   "cell_type": "code",
   "execution_count": 2,
   "metadata": {},
   "outputs": [
    {
     "output_type": "execute_result",
     "data": {
      "text/plain": [
       "160"
      ]
     },
     "metadata": {},
     "execution_count": 2
    }
   ],
   "source": [
    "(p-1)*(q-1)"
   ]
  },
  {
   "cell_type": "code",
   "execution_count": 3,
   "metadata": {},
   "outputs": [],
   "source": [
    "e = 7"
   ]
  },
  {
   "source": [
    "Lets say the message we want to encrypt is **A**.\n",
    "\n",
    "$$\\text{encrypted_message} = \\text{message}^e (\\text{mod n})$$"
   ],
   "cell_type": "markdown",
   "metadata": {}
  },
  {
   "cell_type": "code",
   "execution_count": 4,
   "metadata": {},
   "outputs": [],
   "source": [
    "encrypted_message = 65 ** 7 % 187"
   ]
  },
  {
   "cell_type": "code",
   "execution_count": 6,
   "metadata": {},
   "outputs": [
    {
     "output_type": "execute_result",
     "data": {
      "text/plain": [
       "142"
      ]
     },
     "metadata": {},
     "execution_count": 6
    }
   ],
   "source": [
    "encrypted_message\n",
    "# The encrypted message is 142"
   ]
  },
  {
   "cell_type": "code",
   "execution_count": 11,
   "metadata": {},
   "outputs": [],
   "source": [
    "d = 23"
   ]
  },
  {
   "cell_type": "code",
   "execution_count": 14,
   "metadata": {},
   "outputs": [
    {
     "output_type": "execute_result",
     "data": {
      "text/plain": [
       "True"
      ]
     },
     "metadata": {},
     "execution_count": 14
    }
   ],
   "source": [
    "e * d == 1 + ((p-1) * (q-1))"
   ]
  },
  {
   "source": [],
   "cell_type": "markdown",
   "metadata": {}
  }
 ]
}